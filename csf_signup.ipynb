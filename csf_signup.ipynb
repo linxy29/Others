{
 "cells": [
  {
   "cell_type": "code",
   "execution_count": 1,
   "metadata": {},
   "outputs": [],
   "source": [
    "# 导入urllib库的urlopen函数\n",
    "from urllib.request import urlopen \n",
    "# 发出请求，获取html\n",
    "html = urlopen(\"https://fcbooking.cse.hku.hk/\")\n",
    "# 获取的html内容是字节，将其转化为字符串\n",
    "html_text = bytes.decode(html.read())"
   ]
  },
  {
   "cell_type": "code",
   "execution_count": null,
   "metadata": {},
   "outputs": [],
   "source": [
    "from bs4 import BeautifulSoup\n",
    "# Assuming the above provided content is in the variable 'html_text', we'll parse it using BeautifulSoup\n",
    "html_text_soup = BeautifulSoup(html_text, 'html.parser')\n",
    "\n",
    "# Extracting the \"Session Timetable and Availability\" section based on class identification\n",
    "session_timetable_section_final = html_text_soup.find('div', class_='classic-tabs mt-2')"
   ]
  },
  {
   "cell_type": "code",
   "execution_count": 24,
   "metadata": {},
   "outputs": [
    {
     "name": "stdout",
     "output_type": "stream",
     "text": [
      "[]\n",
      "[]\n",
      "[]\n",
      "['09/09/2023 (Saturday) 1700-1830']\n"
     ]
    }
   ],
   "source": [
    "import smtplib\n",
    "from email.mime.text import MIMEText\n",
    "from bs4 import BeautifulSoup\n",
    "\n",
    "# Get the webpage content\n",
    "html = urlopen(\"https://fcbooking.cse.hku.hk/\")\n",
    "html_text = bytes.decode(html.read())\n",
    "soup = BeautifulSoup(html_text, 'html.parser')\n",
    "b_active_section = soup.find('div', {'id': 'c10002Content'})\n",
    "    \n",
    "# Find all date divs (grey lighten-2 class indicates date)\n",
    "date_divs = b_active_section.find_all('div', class_='py-2 text-center grey lighten-2 font-size-list')\n",
    "    \n",
    "available_slots_with_dates = []\n",
    "for date_div in date_divs:\n",
    "    date_str = date_div.div.get_text()\n",
    "    slot_container = date_div.find_next_sibling('div', class_='border-top border-light font-size-list')\n",
    "    time_div = slot_container.find('div', class_='col text-center')\n",
    "    availability_div = time_div.find_next_sibling('div')\n",
    "        \n",
    "    if \"FULL\" not in availability_div.get_text():\n",
    "        slot_str = f\"{date_str} {time_div.get_text()}\"\n",
    "        available_slots_with_dates.append(slot_str)\n",
    "    print(available_slots_with_dates)\n"
   ]
  },
  {
   "cell_type": "code",
   "execution_count": 25,
   "metadata": {},
   "outputs": [],
   "source": [
    "if available_slots_with_dates:\n",
    "#if True:  # Replace with `if available_slots:` in your actual implementation\n",
    "    # Prepare the email\n",
    "    sender_email = \"forsdemail@163.com\"\n",
    "    recipient_email = \"xl2836@outlook.com\"\n",
    "    subject = \"Available Slots in HKU B-Active\"\n",
    "    body = f\"Available slots: {', '.join(available_slots)}\"\n",
    "\n",
    "    msg = MIMEText(body)\n",
    "    msg['From'] = sender_email\n",
    "    msg['To'] = recipient_email\n",
    "    msg['Subject'] = subject\n",
    "\n",
    "    # Send the email\n",
    "    with smtplib.SMTP_SSL('smtp.163.com', 465) as server:  # Use SMTP_SSL for port 465\n",
    "        server.login(sender_email, \"GEQRHYVMTTIGIYKU\")  # Replace \"your_password_here\" with the correct password\n",
    "        server.sendmail(sender_email, recipient_email, msg.as_string())\n"
   ]
  },
  {
   "cell_type": "code",
   "execution_count": null,
   "metadata": {},
   "outputs": [],
   "source": []
  }
 ],
 "metadata": {
  "kernelspec": {
   "display_name": "Python 3",
   "language": "python",
   "name": "python3"
  },
  "language_info": {
   "codemirror_mode": {
    "name": "ipython",
    "version": 3
   },
   "file_extension": ".py",
   "mimetype": "text/x-python",
   "name": "python",
   "nbconvert_exporter": "python",
   "pygments_lexer": "ipython3",
   "version": "3.10.12"
  },
  "orig_nbformat": 4
 },
 "nbformat": 4,
 "nbformat_minor": 2
}
